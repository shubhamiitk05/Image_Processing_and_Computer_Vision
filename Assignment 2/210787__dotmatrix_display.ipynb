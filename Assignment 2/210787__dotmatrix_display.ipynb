{
  "nbformat": 4,
  "nbformat_minor": 0,
  "metadata": {
    "colab": {
      "provenance": []
    },
    "kernelspec": {
      "name": "python3",
      "display_name": "Python 3"
    },
    "language_info": {
      "name": "python"
    }
  },
  "cells": [
    {
      "cell_type": "code",
      "source": [
        "import numpy as np\n",
        "import cv2\n",
        "import matplotlib.pyplot as plt\n",
        "from google.colab.patches import cv2_imshow\n",
        "from numpy import asarray"
      ],
      "metadata": {
        "id": "YPP84QE8Qojv"
      },
      "execution_count": null,
      "outputs": []
    },
    {
      "cell_type": "code",
      "execution_count": null,
      "metadata": {
        "colab": {
          "base_uri": "https://localhost:8080/",
          "height": 334
        },
        "id": "m7moBLDtQTwT",
        "outputId": "71914d5b-d2cf-434b-e642-a40cdb634ad5"
      },
      "outputs": [
        {
          "name": "stdout",
          "output_type": "stream",
          "text": [
            "Enter Your Roll Number:75\n"
          ]
        },
        {
          "output_type": "display_data",
          "data": {
            "text/plain": [
              "<PIL.Image.Image image mode=L size=500x300 at 0x7FDEC86833A0>"
            ],
            "image/png": "[encoded data removed]"
          },
          "metadata": {}
        }
      ],
      "source": [
        "#function starts\n",
        "def generate_dot_matrix_image(number):\n",
        "    # Extract the last two digits from the number\n",
        "    last_two_digits = number % 100\n",
        "\n",
        "    # Create a grayscale image with dimensions 300x500\n",
        "    image = np.zeros((300, 500), dtype=np.uint8)\n",
        "    #cv2_imshow(image)\n",
        "    # Define the radius of each dot\n",
        "    dot_radius = 25\n",
        "\n",
        "    # Calculate the number of rows and columns in the dot matrix for each number\n",
        "    rows = 5\n",
        "    cols = 3\n",
        "\n",
        "    # Calculate the gap between each dot\n",
        "    xgap = 6\n",
        "    vgap = 5\n",
        "\n",
        "\n",
        "\n",
        "    # Define the dot pattern for each number from 0 to 9\n",
        "    # Define the dot pattern for each number from 0 to 9\n",
        "    # Define the dot pattern for each number from 0 to 9\n",
        "    dot_patterns = [\n",
        "        [1, 1, 1,\n",
        "        1, 0, 1,\n",
        "        1, 0, 1,\n",
        "        1, 0, 1,\n",
        "        1, 1, 1],\n",
        "\n",
        "        [0, 1, 0,\n",
        "        1, 1, 0,\n",
        "        0, 1, 0,\n",
        "        0, 1, 0,\n",
        "        0, 1, 0],\n",
        "\n",
        "        [1, 1, 1,\n",
        "        0, 0, 1,\n",
        "        1, 1, 1,\n",
        "        1, 0, 0,\n",
        "        1, 1, 1],\n",
        "\n",
        "        [1, 1, 1,\n",
        "        0, 0, 1,\n",
        "        1, 1, 1,\n",
        "        0, 0, 1,\n",
        "        1, 1, 1],\n",
        "\n",
        "        [1, 0, 1,\n",
        "        1, 0, 1,\n",
        "        1, 1, 1,\n",
        "        0, 0, 1,\n",
        "        0, 0, 1],\n",
        "\n",
        "        [1, 1, 1,\n",
        "        1, 0, 0,\n",
        "        1, 1, 1,\n",
        "        0, 0, 1,\n",
        "        1, 1, 1],\n",
        "\n",
        "        [1, 1, 1,\n",
        "        1, 0, 0,\n",
        "        1, 1, 1,\n",
        "        1, 0, 1,\n",
        "        1, 1, 1],\n",
        "\n",
        "        [1, 1, 1,\n",
        "        0, 0, 1,\n",
        "        0, 1, 0,\n",
        "        1, 0, 0,\n",
        "        1, 0, 0],\n",
        "\n",
        "        [1, 1, 1,\n",
        "        1, 0, 1,\n",
        "        1, 1, 1,\n",
        "        1, 0, 1,\n",
        "        1, 1, 1],\n",
        "\n",
        "        [1, 1, 1,\n",
        "        1, 0, 1,\n",
        "        1, 1, 1,\n",
        "        0, 0, 1,\n",
        "        1, 1, 1]\n",
        "    ]\n",
        "\n",
        "    # Calculate the starting position to center the dot matrix in the image\n",
        "    start_x = 35+dot_radius\n",
        "    start_y = vgap+dot_radius\n",
        "\n",
        "\n",
        "    # Draw the dot on the image\n",
        "    # cv2.circle(image, (start_x,start_y), dot_radius, dot_color, -1)\n",
        "    #Iterate over each row and column of the dot matrix for the last two digits\n",
        "    # First make dots for first digit in that row and later for second digit\n",
        "    for row in range(5):\n",
        "\n",
        "        for col in range(3):\n",
        "            dot_index = row * cols + col\n",
        "            dot_color = 255 if dot_patterns[last_two_digits//10][dot_index] else 0\n",
        "\n",
        "            # Draw the dot on the image\n",
        "            cv2.circle(image, (start_x,start_y), dot_radius, dot_color, -1)\n",
        "            start_x = start_x + 2 * (dot_radius   + xgap)\n",
        "        for col in range(3):\n",
        "            if col==0:\n",
        "              start_x+=70\n",
        "            dot_index = row * cols + col\n",
        "            dot_color = 255 if dot_patterns[last_two_digits%10][dot_index] else 0\n",
        "\n",
        "            # Draw the dot on the image\n",
        "            cv2.circle(image, (start_x,start_y), dot_radius, dot_color, -1)\n",
        "            start_x = start_x + 2 * (dot_radius   + xgap)\n",
        "\n",
        "        start_y = start_y + 2 * (dot_radius  + vgap)\n",
        "        start_x=35+dot_radius\n",
        "\n",
        "\n",
        "    return image\n",
        "\n",
        "#function ends\n",
        "#sample display\n",
        "\n",
        "number=int(input(\"Enter Your Roll Number:\"))\n",
        "dot_matrix_image = generate_dot_matrix_image(number)\n",
        "cv2_imshow( dot_matrix_image)\n",
        "\n"
      ]
    },
    {
      "cell_type": "code",
      "source": [],
      "metadata": {
        "id": "IjHLcGI0Qq_6"
      },
      "execution_count": null,
      "outputs": []
    }
  ]
}